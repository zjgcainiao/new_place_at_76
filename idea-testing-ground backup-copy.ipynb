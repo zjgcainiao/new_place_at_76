{
 "cells": [
  {
   "cell_type": "code",
   "execution_count": null,
   "id": "c05c59ae",
   "metadata": {},
   "outputs": [],
   "source": [
    "\n",
    "print ('this area is more for dataframe reviews ')\n",
    "import pandas as pd\n",
    "import pyodbc\n"
   ]
  },
  {
   "cell_type": "code",
   "execution_count": null,
   "id": "5bc81e40",
   "metadata": {},
   "outputs": [],
   "source": [
    "import os\n",
    "from sqlalchemy import create_engine\n",
    "import urllib.parse\n",
    "%env DB_HOST=ShopMgt\n",
    "%env DB_USER=SA\n",
    "%env DB_SERVER=localhost\n",
    "%env DB_PORT=1433\n",
    "%env DB_PASSWORD=8189180941sS@\n",
    "server = os.environ.get('DB_SERVER')  \n",
    "database = os.environ.get('DB_HOST')  \n",
    "username = os.environ.get('DB_USER') \n",
    "password = os.environ.get('DB_PASSWORD')\n",
    "\n",
    "connect_string='DRIVER={ODBC Driver 18 for SQL Server};SERVER='+server+';DATABASE='+database+';UID='+username+';PWD='+password+';TrustServerCertificate=yes;Encrypt=yes;'\n",
    "sql_alchemy_string=connect_string"
   ]
  },
  {
   "cell_type": "code",
   "execution_count": null,
   "id": "8306d421",
   "metadata": {},
   "outputs": [],
   "source": [
    "from sqlalchemy import create_engine"
   ]
  },
  {
   "cell_type": "code",
   "execution_count": null,
   "id": "d722efb0",
   "metadata": {},
   "outputs": [],
   "source": [
    "from sqlalchemy import insert"
   ]
  },
  {
   "cell_type": "code",
   "execution_count": null,
   "id": "888a7851",
   "metadata": {},
   "outputs": [],
   "source": [
    "# add this one on the cell to test if there is no output\n",
    "{\n",
    "    \"tags\": [\n",
    "        \"hide-output\"\n",
    "    ]\n",
    "}\n"
   ]
  },
  {
   "cell_type": "code",
   "execution_count": null,
   "id": "611ba355",
   "metadata": {},
   "outputs": [],
   "source": []
  },
  {
   "cell_type": "code",
   "execution_count": null,
   "id": "80ee0545",
   "metadata": {},
   "outputs": [],
   "source": [
    "df=pd.read_json('/Users/stephenwang/Documents/76prolubeplus.com/mitchell1_db_jsons/PhoneNum_Mitchell1_20221222.json')"
   ]
  },
  {
   "cell_type": "code",
   "execution_count": null,
   "id": "b68cc99e",
   "metadata": {},
   "outputs": [],
   "source": [
    "%env"
   ]
  },
  {
   "cell_type": "code",
   "execution_count": null,
   "id": "79e94dbe",
   "metadata": {},
   "outputs": [],
   "source": [
    "df.info()\n"
   ]
  },
  {
   "cell_type": "code",
   "execution_count": null,
   "id": "e02b70e1",
   "metadata": {},
   "outputs": [],
   "source": [
    "df.head()\n"
   ]
  },
  {
   "cell_type": "code",
   "execution_count": null,
   "id": "ca84d56f",
   "metadata": {},
   "outputs": [],
   "source": [
    "df.index\n"
   ]
  },
  {
   "cell_type": "code",
   "execution_count": null,
   "id": "437c4ea8",
   "metadata": {},
   "outputs": [],
   "source": [
    "#df['AppointmentRequestUid']"
   ]
  },
  {
   "cell_type": "code",
   "execution_count": null,
   "id": "d090e820",
   "metadata": {},
   "outputs": [],
   "source": [
    "df.duplicated()\n"
   ]
  },
  {
   "cell_type": "code",
   "execution_count": null,
   "id": "9fbf433d",
   "metadata": {},
   "outputs": [],
   "source": [
    "df.iloc[0,1]"
   ]
  },
  {
   "cell_type": "code",
   "execution_count": null,
   "id": "b884b4dd",
   "metadata": {},
   "outputs": [],
   "source": [
    "#df.iloc[1,3].d"
   ]
  },
  {
   "cell_type": "code",
   "execution_count": null,
   "id": "60e0f72a",
   "metadata": {},
   "outputs": [],
   "source": [
    "#from dotenv import load_dotenv\n"
   ]
  },
  {
   "cell_type": "code",
   "execution_count": null,
   "id": "ef753632",
   "metadata": {},
   "outputs": [],
   "source": [
    "\n",
    "\n"
   ]
  },
  {
   "cell_type": "code",
   "execution_count": null,
   "id": "2a370d50",
   "metadata": {},
   "outputs": [],
   "source": [
    "sql_alchemy_string\n"
   ]
  },
  {
   "cell_type": "code",
   "execution_count": null,
   "id": "4fbd4ccf",
   "metadata": {},
   "outputs": [],
   "source": [
    "## failed  thee first time\n",
    "# cnxn = pyodbc.connect('DRIVER={ODBC Driver 18 for SQL Server};SERVER='+server+';DATABASE='+database+';UID='+username+';PWD='+ password)\n",
    "# need to add ;TrustServerCertificate=yes;Encrypt=no;"
   ]
  },
  {
   "cell_type": "code",
   "execution_count": null,
   "id": "5ea3c7f5",
   "metadata": {},
   "outputs": [],
   "source": [
    "df.count()\n"
   ]
  },
  {
   "cell_type": "code",
   "execution_count": null,
   "id": "e295e205",
   "metadata": {},
   "outputs": [],
   "source": [
    "# connect_string='DRIVER={ODBC Driver 18 for SQL Server};SERVER='+server+';DATABASE='+database+';UID='+username+';PWD='+ password+';TrustServerCertificate=yes;Encrypt=yes;'\n"
   ]
  },
  {
   "cell_type": "code",
   "execution_count": null,
   "id": "467e9266",
   "metadata": {},
   "outputs": [],
   "source": [
    "connect_string"
   ]
  },
  {
   "cell_type": "code",
   "execution_count": null,
   "id": "7861201d",
   "metadata": {},
   "outputs": [],
   "source": [
    "conn=pyodbc.connect(connect_string)"
   ]
  },
  {
   "cell_type": "code",
   "execution_count": null,
   "id": "e02a46df",
   "metadata": {},
   "outputs": [],
   "source": [
    "cursor = conn.cursor()"
   ]
  },
  {
   "cell_type": "code",
   "execution_count": null,
   "id": "81f24ef8",
   "metadata": {},
   "outputs": [],
   "source": [
    "cursor.execute(\"SELECT @@version;\") "
   ]
  },
  {
   "cell_type": "code",
   "execution_count": null,
   "id": "d32e32fd",
   "metadata": {},
   "outputs": [],
   "source": [
    "row=cursor.fetchone()\n"
   ]
  },
  {
   "cell_type": "code",
   "execution_count": null,
   "id": "146594ea",
   "metadata": {},
   "outputs": [],
   "source": [
    "row\n"
   ]
  },
  {
   "cell_type": "code",
   "execution_count": null,
   "id": "b793b061",
   "metadata": {},
   "outputs": [],
   "source": [
    "row[0]"
   ]
  },
  {
   "cell_type": "code",
   "execution_count": null,
   "id": "7c19e881",
   "metadata": {},
   "outputs": [],
   "source": [
    "df.info()"
   ]
  },
  {
   "cell_type": "code",
   "execution_count": null,
   "id": "68c48703",
   "metadata": {},
   "outputs": [],
   "source": [
    "for index, row in df.head().iterrows():\n",
    "    print(index, row)"
   ]
  },
  {
   "cell_type": "code",
   "execution_count": null,
   "id": "16215858",
   "metadata": {},
   "outputs": [],
   "source": [
    "dfhead=df.head()\n"
   ]
  },
  {
   "cell_type": "code",
   "execution_count": null,
   "id": "abb6d8ce",
   "metadata": {},
   "outputs": [],
   "source": [
    "dfhead.dtypes"
   ]
  },
  {
   "cell_type": "code",
   "execution_count": null,
   "id": "4fb2249c",
   "metadata": {},
   "outputs": [],
   "source": [
    "dfhead.Note"
   ]
  },
  {
   "cell_type": "code",
   "execution_count": null,
   "id": "49ab5142",
   "metadata": {},
   "outputs": [],
   "source": [
    "df=df.convert_dtypes()"
   ]
  },
  {
   "cell_type": "code",
   "execution_count": null,
   "id": "c56ae1b8",
   "metadata": {},
   "outputs": [],
   "source": [
    "df.dtypes"
   ]
  },
  {
   "cell_type": "code",
   "execution_count": null,
   "id": "85d393bd",
   "metadata": {},
   "outputs": [],
   "source": [
    "df['RepairOrderId'].value_counts(dropna=False)"
   ]
  },
  {
   "cell_type": "code",
   "execution_count": null,
   "id": "f6021be8",
   "metadata": {},
   "outputs": [],
   "source": [
    "df.LastChangeDate"
   ]
  },
  {
   "cell_type": "code",
   "execution_count": null,
   "id": "9226ba65",
   "metadata": {},
   "outputs": [],
   "source": [
    "%timeit pd.to_datetime(dfhead.LastChangeDate,infer_datetime_format=True)"
   ]
  },
  {
   "cell_type": "code",
   "execution_count": null,
   "id": "ed7aa1b5",
   "metadata": {},
   "outputs": [],
   "source": [
    "pd.to_datetime(dfhead.LastChangeDate,infer_datetime_format=True, errors='ignore')"
   ]
  },
  {
   "cell_type": "code",
   "execution_count": null,
   "id": "8c0154c6",
   "metadata": {},
   "outputs": [],
   "source": [
    "dfhead.LastChangeDate"
   ]
  },
  {
   "cell_type": "code",
   "execution_count": null,
   "id": "acc916e7",
   "metadata": {},
   "outputs": [],
   "source": [
    "start=pd.to_datetime('2022-12-22 22:56:03.877')"
   ]
  },
  {
   "cell_type": "code",
   "execution_count": null,
   "id": "c25de26c",
   "metadata": {},
   "outputs": [],
   "source": [
    "import urllib.parse\n",
    "# password_2=urllib.parse.quote_plus(password)"
   ]
  },
  {
   "cell_type": "code",
   "execution_count": null,
   "id": "a01046ec",
   "metadata": {},
   "outputs": [],
   "source": []
  },
  {
   "cell_type": "code",
   "execution_count": null,
   "id": "1cfd0ca4",
   "metadata": {},
   "outputs": [],
   "source": [
    "#---------------------------2023-01-01 creating tables ----------------------------"
   ]
  },
  {
   "cell_type": "code",
   "execution_count": null,
   "id": "2b2ff9de",
   "metadata": {},
   "outputs": [],
   "source": []
  },
  {
   "cell_type": "code",
   "execution_count": null,
   "id": "f32abaad",
   "metadata": {},
   "outputs": [],
   "source": [
    "print('preparing to insert data into customers_new_01 table')"
   ]
  },
  {
   "cell_type": "code",
   "execution_count": null,
   "id": "89bd8fb9",
   "metadata": {},
   "outputs": [],
   "source": [
    "json_file_path = '/Users/stephenwang/Documents/76prolubeplus.com/mitchell1_db_jsons/Customer_Mitchell1_20221222.json'"
   ]
  },
  {
   "cell_type": "code",
   "execution_count": null,
   "id": "d8f24070",
   "metadata": {},
   "outputs": [],
   "source": [
    "df_cust=pd.read_json(json_file_path)\n",
    "df_cust=df_cust.convert_dtypes()\n",
    "df_cust.info()"
   ]
  },
  {
   "cell_type": "code",
   "execution_count": null,
   "id": "c7566f0a",
   "metadata": {},
   "outputs": [],
   "source": [
    "print ('3-step: 1-slice; 2-rename column names;3 to_sql into the database table')"
   ]
  },
  {
   "cell_type": "code",
   "execution_count": null,
   "id": "32717661",
   "metadata": {},
   "outputs": [],
   "source": [
    "df_cust_cut=df_cust.loc[:,[\"CustId\",\"TitleId\", \"FirstName\", \"LastName\", \"DOB\", \"SpouseName\",\n",
    "       \"ChargeOK\", \"Remarks\",\n",
    "       \"ResaleNum\", \"IncludeInCRMCampaign\", \n",
    "       \"TaxExempt\", \"LastVisited\", \"FirstVisited\",\n",
    "       \"RefTypeId\",\n",
    "       \"IsDeleted\",  \"IsFromSchedule\", \"MembershipNo\",\n",
    "       \"SMSAllowed\", \"EmailAddress\",\n",
    "       \"LastChangeDate\", \"FleetVendorId\"]]"
   ]
  },
  {
   "cell_type": "code",
   "execution_count": null,
   "id": "feb8c591",
   "metadata": {},
   "outputs": [],
   "source": [
    "df_cust_cut"
   ]
  },
  {
   "cell_type": "code",
   "execution_count": null,
   "id": "c5f63ca3",
   "metadata": {},
   "outputs": [],
   "source": [
    "df_cust_cut.info()"
   ]
  },
  {
   "cell_type": "code",
   "execution_count": null,
   "id": "65eb4736",
   "metadata": {},
   "outputs": [],
   "source": [
    "df_cust_cut.columns"
   ]
  },
  {
   "cell_type": "code",
   "execution_count": null,
   "id": "3aa7efec",
   "metadata": {},
   "outputs": [],
   "source": [
    "df_cust_final=df_cust_cut.rename(columns={'CustId':'customer_id', 'TitleId':'customer_title_id',\n",
    "        'FirstName':'customer_first_name',\n",
    "        'LastName':'customer_last_name', 'DOB':'customer_dob', 'SpouseName':'customer_spouse_name',\n",
    "       'ChargeOK':'customer_is_okay_to_charge', 'Remarks':'customers_memo_1', 'ResaleNum':'customer_resale_permit_nbr',\n",
    "       'IncludeInCRMCampaign':'customer_is_in_social_crm', 'TaxExempt':'customer_is_tax_exempt', \n",
    "        'LastVisited':'customer_last_visit_date', 'FirstVisited':'customer_first_visit_date',\n",
    "       'RefTypeId':'customer_hear_from_us_type', 'IsDeleted':'customer_is_activate', \n",
    "        'IsFromSchedule':'customer_is_created_from_appointments', 'MembershipNo':'customer_memebership_nbr',\n",
    "       'SMSAllowed':'customer_does_allow_SMS', 'EmailAddress':'customer_email_address_in_json',\n",
    "       'LastChangeDate':'customer_last_updated_datetime', 'FleetVendorId':'customer_fleet_vendor_id'})"
   ]
  },
  {
   "cell_type": "code",
   "execution_count": null,
   "id": "57fa3cf9",
   "metadata": {},
   "outputs": [],
   "source": [
    "# the final table shold have 21 columns. There are 5 new new columns that have to be definfied.\n",
    "df_cust_final.info()"
   ]
  },
  {
   "cell_type": "code",
   "execution_count": null,
   "id": "586b7773",
   "metadata": {},
   "outputs": [],
   "source": [
    "df_cust_final"
   ]
  },
  {
   "cell_type": "code",
   "execution_count": null,
   "id": "b8ece8ba",
   "metadata": {},
   "outputs": [],
   "source": [
    "df_cust_final.customer_title_id.value_counts()"
   ]
  },
  {
   "cell_type": "code",
   "execution_count": null,
   "id": "323d99ae",
   "metadata": {},
   "outputs": [],
   "source": [
    "print ('reverse the is_deleted values to is_activate. reverse the boolean value! IMPORTANT')\n",
    "for index, row in df_cust_final.iterrows():\n",
    "    if row.customer_is_activate == 1:\n",
    "        row.customer_is_activate == 0\n",
    "    else:\n",
    "        row.customer_is_activate == 1"
   ]
  },
  {
   "cell_type": "code",
   "execution_count": null,
   "id": "4a6a391a",
   "metadata": {},
   "outputs": [],
   "source": [
    "print(sql_alchemy_string)"
   ]
  },
  {
   "cell_type": "code",
   "execution_count": null,
   "id": "e37af718",
   "metadata": {},
   "outputs": [],
   "source": [
    "db_engine_cust=create_engine(f'mssql+pyodbc:///?odbc_connect={sql_alchemy_string}')"
   ]
  },
  {
   "cell_type": "code",
   "execution_count": null,
   "id": "e1c16aae",
   "metadata": {},
   "outputs": [],
   "source": [
    "args, kwargs = db_engine_cust.dialect.create_connect_args(db_engine_cust.url)\n",
    "#list the argument and key arguments of the \n",
    "args,kwargs"
   ]
  },
  {
   "cell_type": "code",
   "execution_count": null,
   "id": "6e185e2f",
   "metadata": {},
   "outputs": [],
   "source": [
    "with db_engine_cust.connect() as conn:\n",
    "    conn.execute((\"USE prolube76DBSTG01\"))\n",
    "    df_cust_final.to_sql('customers_new_01',conn, index=False,if_exists='append')"
   ]
  },
  {
   "cell_type": "code",
   "execution_count": null,
   "id": "3bf1cb9c",
   "metadata": {},
   "outputs": [],
   "source": [
    "# db_enging_v2=create_engine(f'mssql+pyodbc:///?odbc_connect={sql_alchemy_string_v2}', echo=True)#fast_executemany=True"
   ]
  },
  {
   "cell_type": "code",
   "execution_count": null,
   "id": "509fb1ad",
   "metadata": {},
   "outputs": [],
   "source": []
  },
  {
   "cell_type": "code",
   "execution_count": null,
   "id": "d4cb7087",
   "metadata": {},
   "outputs": [],
   "source": [
    "# this one returns an error still.\n",
    "with db_enging_v2.connect() as conn:\n",
    "    conn.execute('use prolube76DBSTG01;')\n",
    "    result = conn.execute(\n",
    "            insert('dbo.customers_new_01'),\n",
    "            df_cust_final,\n",
    "    )\n",
    "    conn.commit()"
   ]
  },
  {
   "cell_type": "code",
   "execution_count": null,
   "id": "ef2a3d8c",
   "metadata": {},
   "outputs": [],
   "source": [
    "with db_enging_v2.connect() as conn:\n",
    "    for index, row in df_cust_final.iterrows():\n",
    "        conn.execute(f\"INSERT INTO customers_new_01(customer_id,row.customer_title_id,customer_first_name,customer_last_name,customer_dob)\"\n",
    "#                     \"customer_spouse_name,customer_is_okay_to_charge,customers_memo_1,customer_resale_permit_nbr,customer_is_in_social_crm\"\n",
    "#                     \"customer_is_tax_exempt,customer_last_visit_date,first_visit_date,customer_is_created_from_appointments,customer_memebership_nbr\"\n",
    "#                     \"customer_does_allow_SMS,customer_email_address_in_json,customer_fleet_vendor_id,customer_last_updated_datetime) \"\n",
    "                     \"values({row.customer_id},{row.customer_title_id},{row.customer_first_name},{row.customer_last_name},{row.customer_dob}\"\n",
    "#                     \",{row.customer_spouse_name},{row.customer_is_okay_to_charge},\"\n",
    "#                     \"{row.customers_memo_1},{row.customer_resale_permit_nbr},{row.customer_is_in_social_crm},\"\n",
    "#                     \"{row.customer_is_tax_exempt},{row.customer_last_visit_date},{row.customer_first_visit_date},\"\n",
    "#                     \"{row.customer_is_created_from_appointments},{row.customer_memebership_nbr},{row.customer_does_allow_SMS},\"\n",
    "#                     \"{row.customer_email_address_in_json},{row.customer_fleet_vendor_id},{row.customer_last_updated_datetime},)\"\n",
    "                    )\n",
    "    conn.commit()"
   ]
  },
  {
   "cell_type": "code",
   "execution_count": null,
   "id": "38d235c4",
   "metadata": {},
   "outputs": [],
   "source": [
    "df_cust_final.columns"
   ]
  },
  {
   "cell_type": "code",
   "execution_count": null,
   "id": "738e279f",
   "metadata": {},
   "outputs": [],
   "source": [
    "\n",
    "# try the pyodbc method now\n",
    "cursor"
   ]
  },
  {
   "cell_type": "code",
   "execution_count": null,
   "id": "67553828",
   "metadata": {},
   "outputs": [],
   "source": [
    "for index, row in df_cust_final.iterrows():\n",
    "     cursor.execute(\"INSERT INTO customers_new_01 (customer_id,customer_title_id,customer_first_name,customer_last_name) values(?,?,?,?)\",\n",
    "                    row.customer_id,\n",
    "                    row.customer_title_id,\n",
    "                    row.customer_first_name,\n",
    "                    row.customer_last_name)\n",
    "cnxn.commit()\n"
   ]
  },
  {
   "cell_type": "code",
   "execution_count": null,
   "id": "2dce5ba8",
   "metadata": {},
   "outputs": [],
   "source": [
    "df_cust_final2=df_cust_final.convert_dtypes()\n",
    "#this is the most used method as it automatically converts the column types to best possible types."
   ]
  },
  {
   "cell_type": "code",
   "execution_count": null,
   "id": "2be086ac",
   "metadata": {},
   "outputs": [],
   "source": [
    "df_cust_final2.info()"
   ]
  },
  {
   "cell_type": "code",
   "execution_count": null,
   "id": "75f88a3f",
   "metadata": {},
   "outputs": [],
   "source": [
    "for index, row in df_cust_final2.iterrows():\n",
    "     cursor.execute(\"INSERT INTO customers_new_01 (customer_id,customer_title_id,customer_first_name,customer_last_name) values(?,?,?,?)\",\n",
    "                    row.customer_id,\n",
    "                    row.customer_title_id,\n",
    "                    row.customer_first_name,\n",
    "                    row.customer_last_name)\n",
    "cnxn.commit()\n"
   ]
  },
  {
   "cell_type": "code",
   "execution_count": null,
   "id": "59159ad8",
   "metadata": {},
   "outputs": [],
   "source": []
  },
  {
   "cell_type": "code",
   "execution_count": null,
   "id": "f4a730aa",
   "metadata": {},
   "outputs": [],
   "source": [
    "\n",
    "## starting new table phone_new_01\n",
    "print ('starting to import data into a new table phone_new_01')"
   ]
  },
  {
   "cell_type": "code",
   "execution_count": null,
   "id": "9e54c6a9",
   "metadata": {},
   "outputs": [],
   "source": [
    "df_phone=pd.read_json('/Users/stephenwang/Documents/76prolubeplus.com/mitchell1_db_jsons/PhoneNum_Mitchell1_20221222.json')"
   ]
  },
  {
   "cell_type": "code",
   "execution_count": null,
   "id": "86f641b4",
   "metadata": {},
   "outputs": [],
   "source": [
    "df_phone.info()\n"
   ]
  },
  {
   "cell_type": "code",
   "execution_count": null,
   "id": "2ed338b8",
   "metadata": {},
   "outputs": [],
   "source": [
    "df_phone=df_phone.convert_dtypes()\n",
    "df_phone.info()"
   ]
  },
  {
   "cell_type": "code",
   "execution_count": null,
   "id": "aa67aea4",
   "metadata": {},
   "outputs": [],
   "source": []
  },
  {
   "cell_type": "code",
   "execution_count": null,
   "id": "4b144ce9",
   "metadata": {},
   "outputs": [],
   "source": [
    "# step 1: slice the dataframe and retain only the wanted columns\n",
    "df_phone_cut=df_phone.loc[:,['PhoneId','PhoneDescId','PhoneNum','Ext','Display','Note','LastChangeDate']]"
   ]
  },
  {
   "cell_type": "code",
   "execution_count": null,
   "id": "cfb46530",
   "metadata": {},
   "outputs": [],
   "source": [
    "df_phone_cut.info()"
   ]
  },
  {
   "cell_type": "code",
   "execution_count": null,
   "id": "9d95b1a9",
   "metadata": {},
   "outputs": [],
   "source": [
    "df_phone_final=df_phone_cut.rename(columns={'PhoneId':'phone_id',\n",
    "                                          'PhoneDescId':'phone_id',\n",
    "                                          'PhoneNum':'phone_number',\n",
    "                                          'Ext':'phone_number_ext',\n",
    "                                          'Display':'phone_displayed_name',\n",
    "                                          'Note':'phone_memo_01',\n",
    "                                          'LastChangeDate':'phone_last_updated_date'})"
   ]
  },
  {
   "cell_type": "code",
   "execution_count": null,
   "id": "169b82ca",
   "metadata": {},
   "outputs": [],
   "source": [
    "df_phone_final.info()\n",
    "\n",
    "\n"
   ]
  },
  {
   "cell_type": "code",
   "execution_count": null,
   "id": "b21e90eb",
   "metadata": {},
   "outputs": [],
   "source": [
    "# sql_alchemy_string=sql_alchemy_string_v2"
   ]
  },
  {
   "cell_type": "code",
   "execution_count": null,
   "id": "61943773",
   "metadata": {},
   "outputs": [],
   "source": [
    "sql_alchemy_string"
   ]
  },
  {
   "cell_type": "code",
   "execution_count": null,
   "id": "b379f4fe",
   "metadata": {},
   "outputs": [],
   "source": [
    "db_engine_phone=create_engine(f'mssql+pyodbc:///?odbc_connect={sql_alchemy_string}')"
   ]
  },
  {
   "cell_type": "code",
   "execution_count": null,
   "id": "b00ed786",
   "metadata": {},
   "outputs": [],
   "source": [
    "# use the prolube76DBSTG01; \n",
    "# then use the pandas builtin to_sql method. index= False means the index of the dataframe won't be inserted into phones_new_01 table\n",
    "with db_engine_phone.connect() as conn:\n",
    "    conn.execute('use prolube76DBSTG01;')\n",
    "    df_phone_final.to_sql('phones_new_01',conn, index=False,if_exists='append')"
   ]
  },
  {
   "cell_type": "code",
   "execution_count": null,
   "id": "b20163d3",
   "metadata": {},
   "outputs": [],
   "source": [
    "#-----vehicles_new_01---------"
   ]
  },
  {
   "cell_type": "code",
   "execution_count": null,
   "id": "3c6399f5",
   "metadata": {},
   "outputs": [],
   "source": [
    "print ('preparing to insert vehicles_new_01')"
   ]
  },
  {
   "cell_type": "code",
   "execution_count": null,
   "id": "5a45cd7e",
   "metadata": {},
   "outputs": [],
   "source": [
    "df_vehicle=pd.read_json('/Users/stephenwang/Documents/76prolubeplus.com/mitchell1_db_jsons/Vehicle_Mitchell1_20221222.json')"
   ]
  },
  {
   "cell_type": "code",
   "execution_count": null,
   "id": "29e560ab",
   "metadata": {},
   "outputs": [],
   "source": [
    "df_vehicle.info()"
   ]
  },
  {
   "cell_type": "code",
   "execution_count": null,
   "id": "46b9a2f6",
   "metadata": {},
   "outputs": [],
   "source": [
    "df_vehicle=df_vehicle.convert_dtypes()\n",
    "df_vehicle.info()"
   ]
  },
  {
   "cell_type": "code",
   "execution_count": null,
   "id": "bc151771",
   "metadata": {},
   "outputs": [],
   "source": [
    "df_vehicle_cut=df_vehicle.loc[:,[ 'VehicleId','CustId','Year','MakeId','SubModelId','BodyId','EngineId','TransmissionId'\n",
    ",'BrakeId','DriveTypeId','GVWId','Odometer1','Odometer2','Vin','InspDate','LastInDate','License','LicenseState',\n",
    "'PartLevel','LaborLevel','UseVehicleLevels','VehicleMemo','VehicleMemoPrintOnOrder','IncludeInCRMCampaign'\n",
    ",'Color','Deleted','VehicleClass','DriverPhoneId','EngineHoursIn','EngineHoursOut'\n",
    ",'ActiveRecallCount','ActiveRecallLastChecked','LastChangeDate']]"
   ]
  },
  {
   "cell_type": "code",
   "execution_count": null,
   "id": "5e5fd51d",
   "metadata": {},
   "outputs": [],
   "source": [
    "df_vehicle_cut.info()"
   ]
  },
  {
   "cell_type": "code",
   "execution_count": null,
   "id": "4f4347b3",
   "metadata": {},
   "outputs": [],
   "source": [
    "# now rename the column names. Vehicle_Final\n",
    "\n",
    "df_vehicle_final = df_vehicle_cut.rename(\n",
    "    columns={'VehicleId':'vehicle_id','CustId':'vehicle_cust_id','Year':'vehicle_year','MakeId':'vehicle_make_id'\n",
    "    ,'SubModelId':'vehicle_sub_model_id','BodyId':'vehicle_body_style_id','EngineId':'vehicle_engine_id','TransmissionId':'vehicle_transmission_id'\n",
    "    ,'BrakeId':'vehicle_brake_id','DriveTypeId':'vehicle_drive_type_id','GVWId':'vehicle_GVW_id','Odometer1':'vehicle_odometer_1','Odometer2':'vehicle_odometer_2','Vin':'VIN_number'\n",
    "    ,'InspDate':'vehicle_inspection_datetime','LastInDate':'vehicle_last_in_date','License':'vehicle_license_plate_nbr','LicenseState':'vehicle_license_state'\n",
    "    ,'PartLevel':'vehicle_part_level','LaborLevel':'vehicle_labor_level','UseVehicleLevels':'vehicle_used_level','VehicleMemo':'vehicle_memo_01','VehicleMemoPrintOnOrder':'vehicle_memo_does_print_on_order','IncludeInCRMCampaign':'vehicle_is_included_in_CRM_compaign'\n",
    "    ,'Color':'vehicle_color','Deleted':'vehicle_record_is_activate','VehicleClass':'vehicle_class_id','DriverPhoneId':'vehicle_phone_id','EngineHoursIn':'vehicle_engine_hour_in','EngineHoursOut':'vehicle_engine_hour_out'\n",
    "    ,'ActiveRecallCount':'vehicle_active_recall_counts','ActiveRecallLastChecked':'vehicle_recall_last_checked_datetime','LastChangeDate':'vehicle_last_updated_datetime'})"
   ]
  },
  {
   "cell_type": "code",
   "execution_count": null,
   "id": "ceeac3b8",
   "metadata": {},
   "outputs": [],
   "source": [
    "\n",
    "df_vehicle_final.info()\n",
    "\n"
   ]
  },
  {
   "cell_type": "code",
   "execution_count": null,
   "id": "9c964829",
   "metadata": {},
   "outputs": [],
   "source": [
    "print ('reverse the is_deleted values to is_activate. reverse the boolean value')\n",
    "for index, row in df_vehicle_final.iterrows():\n",
    "    if row.vehicle_record_is_activate==1:\n",
    "        row.vehicle_record_is_activate == 0\n",
    "    else:\n",
    "        row.vehicle_record_is_activate == 1"
   ]
  },
  {
   "cell_type": "code",
   "execution_count": null,
   "id": "756c18db",
   "metadata": {},
   "outputs": [],
   "source": [
    "# the result should have 33 columns. the total rows are 44578 entries\n",
    "df_vehicle_final.info()"
   ]
  },
  {
   "cell_type": "code",
   "execution_count": null,
   "id": "02ce48ef",
   "metadata": {},
   "outputs": [],
   "source": [
    "sql_alchemy_string=connect_string"
   ]
  },
  {
   "cell_type": "code",
   "execution_count": null,
   "id": "0d22db9a",
   "metadata": {},
   "outputs": [],
   "source": [
    "db_engine_vehicle=create_engine(f'mssql+pyodbc:///?odbc_connect={sql_alchemy_string}')"
   ]
  },
  {
   "cell_type": "code",
   "execution_count": null,
   "id": "32d20cf5",
   "metadata": {},
   "outputs": [],
   "source": [
    "# use the prolube76DBSTG01; \n",
    "# then use the pandas builtin to_sql method. index= False means the index of the dataframe won't be inserted into phones_new_01 table\n",
    "with db_engine_vehicle.connect() as conn:\n",
    "    conn.execute('use prolube76DBSTG01;')\n",
    "    df_vehicle_final.to_sql('vehicles_new_01',conn, index=False,if_exists='append')"
   ]
  },
  {
   "cell_type": "code",
   "execution_count": null,
   "id": "a4a024d3",
   "metadata": {},
   "outputs": [],
   "source": [
    "# list the argument and key arguments\n",
    "args, kwargs = db_engine_vehicle.dialect.create_connect_args(db_engine_vehicle.url)\n"
   ]
  },
  {
   "cell_type": "code",
   "execution_count": null,
   "id": "cc2a953f",
   "metadata": {},
   "outputs": [],
   "source": [
    "args, kwargs"
   ]
  },
  {
   "cell_type": "code",
   "execution_count": null,
   "id": "8229a70a",
   "metadata": {},
   "outputs": [],
   "source": [
    "aa=df_vehicle_final[df_vehicle_final.vehicle_id==22018]"
   ]
  },
  {
   "cell_type": "code",
   "execution_count": null,
   "id": "a8e25328",
   "metadata": {},
   "outputs": [],
   "source": [
    "aa.vehicle_license_state"
   ]
  },
  {
   "cell_type": "code",
   "execution_count": null,
   "id": "b2d62ddd",
   "metadata": {},
   "outputs": [],
   "source": [
    "df_vehicle_final.info()"
   ]
  },
  {
   "cell_type": "code",
   "execution_count": null,
   "id": "62f51331",
   "metadata": {},
   "outputs": [],
   "source": [
    "# check out the final vechile dataframe that feeds into the sql data table\n",
    "df_vehicle_final.info()"
   ]
  },
  {
   "cell_type": "code",
   "execution_count": null,
   "id": "9519ff33",
   "metadata": {},
   "outputs": [],
   "source": [
    "print('start to import repair orders repairorders_new_01')\n"
   ]
  },
  {
   "cell_type": "code",
   "execution_count": null,
   "id": "b6c5cec0",
   "metadata": {},
   "outputs": [],
   "source": []
  },
  {
   "cell_type": "code",
   "execution_count": null,
   "id": "55b42d49",
   "metadata": {},
   "outputs": [],
   "source": [
    "json_file_path = '/Users/stephenwang/Documents/76prolubeplus.com/mitchell1_db_jsons/RepairOrder_Mitchell1_20221222.json'\n",
    "print(f'the repair order json file is {json_file_path}')\n",
    "df_repairorder=pd.read_json(json_file_path)\n",
    "print(df_repairorder.info())"
   ]
  },
  {
   "cell_type": "code",
   "execution_count": null,
   "id": "16d5b281",
   "metadata": {},
   "outputs": [],
   "source": [
    "print('convert the column dtypes into the best possible ones using convert_dtypes()')\n",
    "df_repairorder=df_repairorder.convert_dtypes()"
   ]
  },
  {
   "cell_type": "code",
   "execution_count": null,
   "id": "de005192",
   "metadata": {},
   "outputs": [],
   "source": [
    "df_repairorder.info()"
   ]
  },
  {
   "cell_type": "code",
   "execution_count": null,
   "id": "e89b5976",
   "metadata": {},
   "outputs": [],
   "source": [
    "df_repairorder.columns"
   ]
  },
  {
   "cell_type": "code",
   "execution_count": null,
   "id": "97a5d66b",
   "metadata": {},
   "outputs": [],
   "source": [
    "# slice the dataframe. first step\n",
    "df_repairorder_cut=df_repairorder.loc[:, [\"RepairOrderId\" ,\n",
    "\"RepairOrderPhaseId\" ,\n",
    "\"CustId\" ,\n",
    "\"VehicleId\" ,\n",
    "\"Location\" ,\n",
    "\"StatusDescription\" ,\n",
    "\"ScheduleDate\" ,\n",
    "\"ScheduledHours\" ,\n",
    "\"PromiseDate\" ,\n",
    "\"RoPrinted\" ,\n",
    "\"InvoicePrinted\" ,\n",
    "\"TimeIn\" ,\n",
    "\"TimeOut\" ,\n",
    "\"Hat\" ,\n",
    "\"DatePosted\" ,\n",
    "\"OdometerIn\" ,\n",
    "\"OdometerOut\" ,\n",
    "\"ReferenceNumber\" ,\n",
    "\"PrintedDate\" ,\n",
    "\"TaxExempt\" ,\n",
    "\"Notes\" ,\n",
    "\"Observations\" ,\n",
    "\"CreatedAsEstimate\" ,\n",
    "\"MarginPct\" ,\n",
    "\"HazWasteAmt\" ,\n",
    "\"LaborSale\" ,\n",
    "\"PartsSale\" ,\n",
    "\"ShopSuppliesAmt\" ,\n",
    "\"TaxAmtHazMat\" ,\n",
    "\"TaxAmtShopSupplies\" ,\n",
    "\"TotalTaxAmt\" ,\n",
    "\"BalanceDueAdjustment\" ,\n",
    "\"DiscountAmt\" ,\n",
    "\"PartDiscountDescriptionId\" ,\n",
    "\"LaborRateDescriptionId\" ,\n",
    "\"OrderTotal\" ,\n",
    "\"CalculateHazWasteCost\" ,\n",
    "\"CalculateShopSuppliesCost\" ,\n",
    "\"EngineHoursIn\" ,\n",
    "\"EngineHoursOut\" ,\n",
    "\"LastChangeDate\" ,\n",
    "\"AppointmentRequestUid\" ,]]"
   ]
  },
  {
   "cell_type": "code",
   "execution_count": null,
   "id": "e6f25d14",
   "metadata": {},
   "outputs": [],
   "source": [
    "print(df_repairorder_cut.info())"
   ]
  },
  {
   "cell_type": "code",
   "execution_count": null,
   "id": "82e330c5",
   "metadata": {},
   "outputs": [],
   "source": [
    "# now rename the column names. repairorder final\n",
    "\n",
    "df_repairorder_final= df_repairorder_cut.rename(\n",
    "    columns={\"RepairOrderId\":\"repair_order_id\" ,\n",
    "\"RepairOrderPhaseId\":\"repair_order_phase_id\" ,\n",
    "\"CustId\": \"repair_order_cust_id\" ,\n",
    "\"VehicleId\": \"repair_order_vehicle_id\",\n",
    "\"Location\" :\"repair_order_serviced_vehicle_location\" ,\n",
    "\"StatusDescription\":\"repair_order_service_status\" ,\n",
    "\"ScheduleDate\":\"repair_order_scheduled_start_datetime\" ,\n",
    "\"ScheduledHours\":\"repair_order_billed_hours\" ,\n",
    "\"PromiseDate\":\"repair_order_promise_datetime\" ,\n",
    "\"RoPrinted\":\"repair_order_is_printed\" ,\n",
    "\"InvoicePrinted\":\"repair_order_invoice_is_printed\" ,\n",
    "\"TimeIn\":\"repair_order_serviced_vehicle_in_datetime\"  ,\n",
    "\"TimeOut\":\"repair_order_serviced_vehicle_out_datetime\" ,\n",
    "\"Hat\":\"repair_order_serviced_vehicle_hat\"  ,\n",
    "\"DatePosted\": \"repair_order_posted_datetime\" ,\n",
    "\"OdometerIn\" :\"repair_order_serviced_vehicle_odometer_in\",\n",
    "\"OdometerOut\": \"repair_order_odometer_out\" ,\n",
    "\"ReferenceNumber\": \"repair_order_reference_number\" ,\n",
    "\"PrintedDate\" : \"repair_order_receipt_printed_datetime\" ,\n",
    "\"TaxExempt\": \"repair_order_snapshot_is_tax_exempt\" ,\n",
    "\"Notes\": \"repair_order_aggr_notes\" ,\n",
    "\"Observations\": \"repair_order_observation_text_area\" ,\n",
    "\"CreatedAsEstimate\": \"repair_order_created_as_estimate\"  ,\n",
    "\"MarginPct\": \"repair_order_snapshot_margin_pct\" ,\n",
    "\"HazWasteAmt\": \"repair_order_snapshot_haz_waste_amount\",\n",
    "\"LaborSale\":\"repair_order_snapshot_labor_sale_amount\" ,\n",
    "\"PartsSale\":\"repair_order_snapshot_parts_sale_amount\" ,\n",
    "\"ShopSuppliesAmt\":\"repair_order_snapshot_supply_from_shop_amount\" ,\n",
    "\"TaxAmtHazMat\":\"repair_order_snapshot_tax_haz_material_amount\" ,\n",
    "\"TaxAmtShopSupplies\":\"repair_order_snapshot_tax_supply_from_shop_amount\" ,\n",
    "\"TotalTaxAmt\":\"repair_order_snapshot_total_tax_amount\" ,\n",
    "\"BalanceDueAdjustment\": \"repair_order_snapshot_balance_due_adjusted\" ,\n",
    "\"DiscountAmt\": \"repair_order_snapshot_discounted_amount\",\n",
    "\"PartDiscountDescriptionId\": \"repair_order_snapshot_part_discounted_desc_id\",\n",
    "\"LaborRateDescriptionId\":\"repair_order_snapshot_labor_discounted_desc_id\" ,\n",
    "\"OrderTotal\":\"repair_order_snapshot_order_total_amount\" ,\n",
    "\"CalculateHazWasteCost\":\"repair_order_snapshot_calc_haz_waste_cost\"  ,\n",
    "\"CalculateShopSuppliesCost\":\"repair_order_snapshot_calc_shop_supply_cost\" ,\n",
    "\"EngineHoursIn\":\"repair_order_serviced_vehcle_engine_hours_in\",\n",
    "\"EngineHoursOut\":\"repair_order_serviced_vehcle_engine_hours_out\" ,\n",
    "\"LastChangeDate\":\"repair_order_last_updated_datetime\",\n",
    "\"AppointmentRequestUid\":\"repair_order_appointment_request_uid\" })"
   ]
  },
  {
   "cell_type": "code",
   "execution_count": null,
   "id": "907e3ccf",
   "metadata": {},
   "outputs": [],
   "source": [
    " df_repairorder_final.info()"
   ]
  },
  {
   "cell_type": "code",
   "execution_count": null,
   "id": "3bcdabbc",
   "metadata": {},
   "outputs": [],
   "source": [
    "db_engine_repairorder=create_engine(f'mssql+pyodbc:///?odbc_connect={sql_alchemy_string}')"
   ]
  },
  {
   "cell_type": "code",
   "execution_count": null,
   "id": "02f29ee2",
   "metadata": {},
   "outputs": [],
   "source": [
    "db_engine_repairorder"
   ]
  },
  {
   "cell_type": "code",
   "execution_count": null,
   "id": "27023b0e",
   "metadata": {},
   "outputs": [],
   "source": [
    "# list the argument and key arguments\n",
    "args, kwargs = db_engine_vehicle.dialect.create_connect_args(db_engine_vehicle.url)\n",
    "args, kwargs"
   ]
  },
  {
   "cell_type": "code",
   "execution_count": null,
   "id": "897763af",
   "metadata": {},
   "outputs": [],
   "source": [
    "# use the prolube76DBSTG01; insert data into repairoders_new_01 table\n",
    "# then use the pandas builtin to_sql method. index= False means the index of the dataframe won't be inserted into phones_new_01 table\n",
    "with db_engine_repairorder.connect() as conn:\n",
    "    conn.execute('use prolube76DBSTG01;')\n",
    "    df_repairorder_final.to_sql('repairorders_new_01',conn, index=False,if_exists='append')"
   ]
  },
  {
   "cell_type": "code",
   "execution_count": null,
   "id": "e912071b",
   "metadata": {},
   "outputs": [],
   "source": [
    "# preparing the estimates_new_01 table\n",
    "import pandas as pd\n"
   ]
  },
  {
   "cell_type": "code",
   "execution_count": null,
   "id": "b8a9ec9b",
   "metadata": {},
   "outputs": [],
   "source": [
    "json_file_path = '/Users/stephenwang/Documents/76prolubeplus.com/mitchell1_db_jsons/estimate_Mitchell1_20221222.json'\n",
    "df_estimate = pd.read_json(json_file_path)\n",
    "df_estimate = df_estimate.convert_dtypes()"
   ]
  },
  {
   "cell_type": "code",
   "execution_count": null,
   "id": "ff45e6ef",
   "metadata": {},
   "outputs": [],
   "source": [
    "df_estimate.info()"
   ]
  },
  {
   "cell_type": "code",
   "execution_count": null,
   "id": "014f5690",
   "metadata": {},
   "outputs": [],
   "source": [
    "df_estimate.columns"
   ]
  },
  {
   "cell_type": "code",
   "execution_count": null,
   "id": "85501bc4",
   "metadata": {},
   "outputs": [],
   "source": [
    "df_estimate_cut=df_estimate.loc[:, ['EstimateId', 'RepairOrderId', \n",
    "       'EstimatedLaborCost','EstimatedPartsCost', 'EstimatedHours', 'EstimatedTaxAmount',\n",
    "       'EstimatedHazMatCost', 'EstShopSuppliesCost', 'EstimatedDiscount',\n",
    "       'LastChangeDate']]"
   ]
  },
  {
   "cell_type": "code",
   "execution_count": null,
   "id": "8d2b79c7",
   "metadata": {},
   "outputs": [],
   "source": [
    "df_estimate_final=df_estimate_cut.rename(\n",
    "    columns={'EstimateId':'estimate_id', \n",
    "             'RepairOrderId':'estimate_repair_order_id', \n",
    "             'EstimatedLaborCost':'estimate_snapshot_labor_cost',\n",
    "             'EstimatedPartsCost':'estimate_snapshot_parts_cost', \n",
    "             'EstimatedHours':'estimate_billed_hours', 'EstimatedTaxAmount':'estimate_snapshot_tax_amount',\n",
    "             'EstimatedHazMatCost':'estimate_snapshot_haz_mat_amount',\n",
    "             'EstShopSuppliesCost':'estimate_snapshot_shop_supply_cost', \n",
    "             'EstimatedDiscount':'estimate_snapshot_discount_amount',\n",
    "             'LastChangeDate':'estimate_last_updated_date'\n",
    "        \n",
    "    }\n",
    ")\n",
    "\n",
    "\n",
    "\n",
    "\n",
    "\n",
    "\n",
    "\n"
   ]
  },
  {
   "cell_type": "code",
   "execution_count": null,
   "id": "b903bb2b",
   "metadata": {},
   "outputs": [],
   "source": [
    "df_estimate_final=df_estimate_final.convert_dtypes()\n",
    "df_estimate_final.info()"
   ]
  },
  {
   "cell_type": "code",
   "execution_count": null,
   "id": "011b6824",
   "metadata": {},
   "outputs": [],
   "source": [
    "import os\n",
    "from sqlalchemy import create_engine\n",
    "import urllib.parse\n",
    "%env DB_HOST=ShopMgt\n",
    "%env DB_USER=SA\n",
    "%env DB_SERVER=localhost\n",
    "%env DB_PORT=1433\n",
    "%env DB_PASSWORD=8189180941sS@\n",
    "server = os.environ.get('DB_SERVER')  \n",
    "database = os.environ.get('DB_HOST')  \n",
    "username = os.environ.get('DB_USER') \n",
    "password = os.environ.get('DB_PASSWORD')\n",
    "\n",
    "connect_string='DRIVER={ODBC Driver 18 for SQL Server};SERVER='+server+';DATABASE='+database+';UID='+username+';PWD='+password+';TrustServerCertificate=yes;Encrypt=yes;'\n",
    "sql_alchemy_string=connect_string"
   ]
  },
  {
   "cell_type": "code",
   "execution_count": null,
   "id": "21cb25bb",
   "metadata": {},
   "outputs": [],
   "source": [
    "sql_alchemy_string"
   ]
  },
  {
   "cell_type": "code",
   "execution_count": null,
   "id": "0d5223cf",
   "metadata": {},
   "outputs": [],
   "source": []
  },
  {
   "cell_type": "code",
   "execution_count": null,
   "id": "9a21138e",
   "metadata": {},
   "outputs": [],
   "source": [
    "db_engine_estimate=create_engine(f'mssql+pyodbc:///?odbc_connect={sql_alchemy_string}')"
   ]
  },
  {
   "cell_type": "code",
   "execution_count": null,
   "id": "cde4c59b",
   "metadata": {},
   "outputs": [],
   "source": []
  },
  {
   "cell_type": "code",
   "execution_count": null,
   "id": "21e5393f",
   "metadata": {},
   "outputs": [],
   "source": []
  },
  {
   "cell_type": "code",
   "execution_count": null,
   "id": "98dcfa16",
   "metadata": {},
   "outputs": [],
   "source": []
  },
  {
   "cell_type": "code",
   "execution_count": null,
   "id": "b42d7626",
   "metadata": {},
   "outputs": [],
   "source": [
    "# create new estimate sql table"
   ]
  },
  {
   "cell_type": "code",
   "execution_count": null,
   "id": "4388f56f",
   "metadata": {},
   "outputs": [],
   "source": [
    "# insert data into estimates_new_01 table\n",
    "# then use the pandas builtin to_sql method. index= False means the index of the dataframe won't be inserted into phones_new_01 table\n",
    "with db_engine_estimate.connect() as conn:\n",
    "    conn.execute('use prolube76DBSTG01;')\n",
    "    df_estimate_final.to_sql('estimates_new_01',conn, index=False,if_exists='append')"
   ]
  },
  {
   "cell_type": "code",
   "execution_count": null,
   "id": "d37c7ea2",
   "metadata": {},
   "outputs": [],
   "source": [
    "file_name_list = ['Customer', 'PhoneNum', 'vehicle','RepairOrder','estimate','Schedule','email']"
   ]
  },
  {
   "cell_type": "code",
   "execution_count": null,
   "id": "022bf351",
   "metadata": {},
   "outputs": [],
   "source": [
    "for index,file in  enumerate(file_name_list):\n",
    "    print (f'the index is {index}; the value of the file item is {file}')"
   ]
  },
  {
   "cell_type": "code",
   "execution_count": 8,
   "id": "3603e712",
   "metadata": {},
   "outputs": [],
   "source": [
    "import os\n",
    "from dotenv import load_dotenv\n",
    "import pandas as pd\n",
    "from sqlalchemy import create_engine\n",
    "from dotenv import load_dotenv\n",
    "from sqlalchemy import insert, create_engine\n",
    "\n",
    "load_dotenv()\n",
    "\n",
    "sql_alchemy_string = 'DRIVER={ODBC Driver 18 for SQL Server};SERVER=' + os.environ.get('DB_SERVER')+';DATABASE='+os.environ.get('DB_HOST')+';UID='+os.environ.get('DB_USER')+';PWD='+os.environ.get('DB_PASSWORD')+';TrustServerCertificate=yes;Encrypt=yes;'\n",
    "# "
   ]
  },
  {
   "cell_type": "code",
   "execution_count": null,
   "id": "e0a8dcef",
   "metadata": {},
   "outputs": [],
   "source": [
    "# create a sql alchemy engine (based on pyodbc).\n",
    "json_file_path = '/Users/stephenwang/Documents/76prolubeplus.com/mitchell1_db_jsons/Customer_Mitchell1_20221222.json'\n",
    "df_cust=pd.read_json(json_file_path)\n",
    "df_cust=df_cust.convert_dtypes()\n",
    "#df_cust.info()\n",
    "df_cust_cut=df_cust.loc[:,[\"CustId\",\"TitleId\", \"FirstName\", \"LastName\", \"DOB\", \"SpouseName\",\n",
    "       \"ChargeOK\", \"Remarks\",\n",
    "       \"ResaleNum\", \"IncludeInCRMCampaign\", \n",
    "       \"TaxExempt\", \"LastVisited\", \"FirstVisited\",\n",
    "       \"RefTypeId\",\n",
    "       \"IsDeleted\",  \"IsFromSchedule\", \"MembershipNo\",\n",
    "       \"SMSAllowed\", \"EmailAddress\",\n",
    "       \"LastChangeDate\", \"FleetVendorId\"]]\n",
    "\n",
    "df_cust_final=df_cust_cut.rename(columns={'CustId':'customer_id', 'TitleId':'customer_title_id',\n",
    "        'FirstName':'customer_first_name',\n",
    "        'LastName':'customer_last_name', 'DOB':'customer_dob', 'SpouseName':'customer_spouse_name',\n",
    "       'ChargeOK':'customer_is_okay_to_charge', 'Remarks':'customers_memo_1', 'ResaleNum':'customer_resale_permit_nbr',\n",
    "       'IncludeInCRMCampaign':'customer_is_in_social_crm', 'TaxExempt':'customer_is_tax_exempt', \n",
    "        'LastVisited':'customer_last_visit_date', 'FirstVisited':'customer_first_visit_date',\n",
    "       'RefTypeId':'customer_hear_from_us_type', 'IsDeleted':'customer_is_activate', \n",
    "        'IsFromSchedule':'customer_is_created_from_appointments', 'MembershipNo':'customer_memebership_nbr',\n",
    "       'SMSAllowed':'customer_does_allow_SMS', 'EmailAddress':'customer_email_address_in_json',\n",
    "       'LastChangeDate':'customer_last_updated_datetime', 'FleetVendorId':'customer_fleet_vendor_id'})\n",
    "\n",
    "for index, row in df_cust_final.iterrows():\n",
    "    if row.customer_is_activate == 1:\n",
    "        row.customer_is_activate == 0\n",
    "    else:\n",
    "        row.customer_is_activate == 1\n",
    "\n",
    "db_engine_cust=create_engine(f'mssql+pyodbc:///?odbc_connect={sql_alchemy_string}')"
   ]
  },
  {
   "cell_type": "code",
   "execution_count": null,
   "id": "011da9b1",
   "metadata": {},
   "outputs": [],
   "source": [
    "with db_engine_cust.connect() as conn:\n",
    "    conn.execute((\"USE prolube76DBSTG01\"))\n",
    "    df_cust_final.to_sql('customers_new_01',conn, index=False,if_exists='append')\n"
   ]
  },
  {
   "cell_type": "code",
   "execution_count": null,
   "id": "8034dace",
   "metadata": {},
   "outputs": [],
   "source": [
    "# insert the customers table. Original data.\n",
    "with db_engine_cust.connect() as conn:\n",
    "    conn.execute((\"USE prolube76DBSTG01\"))\n",
    "    df_cust.to_sql('customers',conn, index=False,if_exists='append')"
   ]
  },
  {
   "cell_type": "code",
   "execution_count": null,
   "id": "5a9aba41",
   "metadata": {},
   "outputs": [],
   "source": [
    "df_phone=pd.read_json('/Users/stephenwang/Documents/76prolubeplus.com/mitchell1_db_jsons/PhoneNum_Mitchell1_20221222.json')\n",
    "df_phone=df_phone.convert_dtypes()\n",
    "df_phone_cut=df_phone.loc[:,['PhoneId','PhoneDescId','PhoneNum','Ext','Display','Note','LastChangeDate']]\n",
    "df_phone_final=df_phone_cut.rename(columns={'PhoneId':'phone_id',\n",
    "                                          'PhoneDescId':'phone_id',\n",
    "                                          'PhoneNum':'phone_number',\n",
    "                                          'Ext':'phone_number_ext',\n",
    "                                          'Display':'phone_displayed_name',\n",
    "                                          'Note':'phone_memo_01',\n",
    "                                          'LastChangeDate':'phone_last_updated_date'})\n",
    "\n",
    "db_engine_phone=create_engine(f'mssql+pyodbc:///?odbc_connect={sql_alchemy_string}')\n",
    "# then use the pandas builtin to_sql method. index= False means the index of the dataframe won't be inserted into phones_new_01 table\n"
   ]
  },
  {
   "cell_type": "code",
   "execution_count": null,
   "id": "d5ce541f",
   "metadata": {},
   "outputs": [],
   "source": [
    "with db_engine_phone.connect() as conn:\n",
    "    conn.execute('use prolube76DBSTG01;')\n",
    "    df_phone_final.to_sql('phones_new_01',conn, index=False,if_exists='append')"
   ]
  },
  {
   "cell_type": "code",
   "execution_count": null,
   "id": "c34e791e",
   "metadata": {},
   "outputs": [],
   "source": [
    "#-------------insert data into vehilces_new_01 table ---"
   ]
  },
  {
   "cell_type": "code",
   "execution_count": 4,
   "id": "883a6c02",
   "metadata": {},
   "outputs": [],
   "source": [
    "df_vehicle=pd.read_json('/Users/stephenwang/Documents/76prolubeplus.com/mitchell1_db_jsons/Vehicle_Mitchell1_20221222.json')\n",
    "df_vehicle = df_vehicle.convert_dtypes()\n",
    "\n",
    "df_vehicle_cut = df_vehicle.loc[:,[ 'VehicleId','CustId','Year','MakeId','SubModelId','BodyId','EngineId','TransmissionId'\n",
    ",'BrakeId','DriveTypeId','GVWId','Odometer1','Odometer2','Vin','InspDate','LastInDate','License','LicenseState',\n",
    "'PartLevel','LaborLevel','UseVehicleLevels','VehicleMemo','VehicleMemoPrintOnOrder','IncludeInCRMCampaign'\n",
    ",'Color','Deleted','VehicleClass','DriverPhoneId','EngineHoursIn','EngineHoursOut'\n",
    ",'ActiveRecallCount','ActiveRecallLastChecked','LastChangeDate']]\n",
    "\n",
    "df_vehicle_final = df_vehicle_cut.rename(\n",
    "    columns={'VehicleId':'vehicle_id','CustId':'vehicle_cust_id','Year':'vehicle_year','MakeId':'vehicle_make_id'\n",
    "    ,'SubModelId':'vehicle_sub_model_id','BodyId':'vehicle_body_style_id','EngineId':'vehicle_engine_id','TransmissionId':'vehicle_transmission_id'\n",
    "    ,'BrakeId':'vehicle_brake_id','DriveTypeId':'vehicle_drive_type_id','GVWId':'vehicle_GVW_id','Odometer1':'vehicle_odometer_1','Odometer2':'vehicle_odometer_2','Vin':'VIN_number'\n",
    "    ,'InspDate':'vehicle_inspection_datetime','LastInDate':'vehicle_last_in_date','License':'vehicle_license_plate_nbr','LicenseState':'vehicle_license_state'\n",
    "    ,'PartLevel':'vehicle_part_level','LaborLevel':'vehicle_labor_level','UseVehicleLevels':'vehicle_used_level','VehicleMemo':'vehicle_memo_01','VehicleMemoPrintOnOrder':'vehicle_memo_does_print_on_order','IncludeInCRMCampaign':'vehicle_is_included_in_crm_campaign'\n",
    "    ,'Color':'vehicle_color','Deleted':'vehicle_record_is_activate','VehicleClass':'vehicle_class_id','DriverPhoneId':'vehicle_phone_id','EngineHoursIn':'vehicle_engine_hour_in','EngineHoursOut':'vehicle_engine_hour_out'\n",
    "    ,'ActiveRecallCount':'vehicle_active_recall_counts','ActiveRecallLastChecked':'vehicle_recall_last_checked_datetime','LastChangeDate':'vehicle_last_updated_datetime'})\n"
   ]
  },
  {
   "cell_type": "code",
   "execution_count": 5,
   "id": "1ad11d45",
   "metadata": {},
   "outputs": [
    {
     "name": "stdout",
     "output_type": "stream",
     "text": [
      "<class 'pandas.core.frame.DataFrame'>\n",
      "RangeIndex: 44578 entries, 0 to 44577\n",
      "Data columns (total 33 columns):\n",
      " #   Column                                Non-Null Count  Dtype \n",
      "---  ------                                --------------  ----- \n",
      " 0   vehicle_id                            44578 non-null  Int64 \n",
      " 1   vehicle_cust_id                       39478 non-null  Int64 \n",
      " 2   vehicle_year                          42892 non-null  Int64 \n",
      " 3   vehicle_make_id                       42746 non-null  Int64 \n",
      " 4   vehicle_sub_model_id                  42556 non-null  Int64 \n",
      " 5   vehicle_body_style_id                 42346 non-null  Int64 \n",
      " 6   vehicle_engine_id                     41966 non-null  Int64 \n",
      " 7   vehicle_transmission_id               9667 non-null   Int64 \n",
      " 8   vehicle_brake_id                      23700 non-null  Int64 \n",
      " 9   vehicle_drive_type_id                 19356 non-null  Int64 \n",
      " 10  vehicle_GVW_id                        24411 non-null  Int64 \n",
      " 11  vehicle_odometer_1                    44578 non-null  Int64 \n",
      " 12  vehicle_odometer_2                    44578 non-null  Int64 \n",
      " 13  VIN_number                            44578 non-null  string\n",
      " 14  vehicle_inspection_datetime           44528 non-null  string\n",
      " 15  vehicle_last_in_date                  38046 non-null  string\n",
      " 16  vehicle_license_plate_nbr             44578 non-null  string\n",
      " 17  vehicle_license_state                 44578 non-null  string\n",
      " 18  vehicle_part_level                    44527 non-null  Int64 \n",
      " 19  vehicle_labor_level                   44527 non-null  Int64 \n",
      " 20  vehicle_used_level                    44578 non-null  Int64 \n",
      " 21  vehicle_memo_01                       44578 non-null  string\n",
      " 22  vehicle_memo_does_print_on_order      44578 non-null  Int64 \n",
      " 23  vehicle_is_included_in_crm_campaign   44578 non-null  Int64 \n",
      " 24  vehicle_color                         44578 non-null  string\n",
      " 25  vehicle_record_is_activate            44578 non-null  Int64 \n",
      " 26  vehicle_class_id                      44578 non-null  Int64 \n",
      " 27  vehicle_phone_id                      1 non-null      Int64 \n",
      " 28  vehicle_engine_hour_in                44578 non-null  Int64 \n",
      " 29  vehicle_engine_hour_out               44578 non-null  Int64 \n",
      " 30  vehicle_active_recall_counts          13184 non-null  Int64 \n",
      " 31  vehicle_recall_last_checked_datetime  17425 non-null  string\n",
      " 32  vehicle_last_updated_datetime         44578 non-null  string\n",
      "dtypes: Int64(24), string(9)\n",
      "memory usage: 12.2 MB\n"
     ]
    }
   ],
   "source": [
    "df_vehicle_final=df_vehicle_final.convert_dtypes()\n",
    "df_vehicle_final.info()"
   ]
  },
  {
   "cell_type": "code",
   "execution_count": 6,
   "id": "ab0fad75",
   "metadata": {},
   "outputs": [],
   "source": [
    "db_engine_vehicle=create_engine(f'mssql+pyodbc:///?odbc_connect={sql_alchemy_string}')"
   ]
  },
  {
   "cell_type": "code",
   "execution_count": 7,
   "id": "e3b15cfc",
   "metadata": {},
   "outputs": [],
   "source": [
    "# then use the pandas builtin to_sql method. index= False means the index of the dataframe won't be inserted into phones_new_01 table\n",
    "with db_engine_vehicle.connect() as conn:\n",
    "    conn.execute('use prolube76DBSTG01;')\n",
    "    df_vehicle_final.to_sql('vehicles_new_01',conn, index=False,if_exists='append')"
   ]
  },
  {
   "cell_type": "code",
   "execution_count": null,
   "id": "5560a9da",
   "metadata": {},
   "outputs": [],
   "source": [
    "df_vehicle_final[df_vehicle_final.vehicle_id==22018]"
   ]
  },
  {
   "cell_type": "code",
   "execution_count": null,
   "id": "b4f82cdb",
   "metadata": {},
   "outputs": [],
   "source": [
    "with db_engine_vehicle.connect() as conn:\n",
    "    conn.execute('use prolube76DBSTG01;')\n",
    "    df_vehicle.to_sql('vehicles',conn, index=False,if_exists='append')"
   ]
  },
  {
   "cell_type": "code",
   "execution_count": 2,
   "id": "78a45c06",
   "metadata": {},
   "outputs": [],
   "source": [
    "df_repairorder=pd.read_json('/Users/stephenwang/Documents/76prolubeplus.com/mitchell1_db_jsons/RepairOrder_Mitchell1_20221222.json'\n",
    ")\n",
    "df_repairorder=df_repairorder.convert_dtypes()\n",
    "# slice the dataframe. first step\n",
    "df_repairorder_cut=df_repairorder.loc[:, [\"RepairOrderId\" ,\n",
    "    \"RepairOrderPhaseId\" ,\n",
    "    \"CustId\" ,\n",
    "    \"VehicleId\" ,\n",
    "    \"Location\" ,\n",
    "    \"StatusDescription\" ,\n",
    "    \"ScheduleDate\" ,\n",
    "    \"ScheduledHours\" ,\n",
    "    \"PromiseDate\" ,\n",
    "    \"RoPrinted\" ,\n",
    "    \"InvoicePrinted\" ,\n",
    "    \"TimeIn\" ,\n",
    "    \"TimeOut\" ,\n",
    "    \"Hat\" ,\n",
    "    \"DatePosted\" ,\n",
    "    \"OdometerIn\" ,\n",
    "    \"OdometerOut\" ,\n",
    "    \"ReferenceNumber\" ,\n",
    "    \"PrintedDate\" ,\n",
    "    \"TaxExempt\" ,\n",
    "    \"Notes\" ,\n",
    "    \"Observations\" ,\n",
    "    \"CreatedAsEstimate\" ,\n",
    "    \"MarginPct\" ,\n",
    "    \"HazWasteAmt\" ,\n",
    "    \"LaborSale\" ,\n",
    "    \"PartsSale\" ,\n",
    "    \"ShopSuppliesAmt\" ,\n",
    "    \"TaxAmtHazMat\" ,\n",
    "    \"TaxAmtShopSupplies\" ,\n",
    "    \"TotalTaxAmt\" ,\n",
    "    \"BalanceDueAdjustment\" ,\n",
    "    \"DiscountAmt\" ,\n",
    "    \"PartDiscountDescriptionId\" ,\n",
    "    \"LaborRateDescriptionId\" ,\n",
    "    \"OrderTotal\" ,\n",
    "    \"CalculateHazWasteCost\" ,\n",
    "    \"CalculateShopSuppliesCost\" ,\n",
    "    \"EngineHoursIn\" ,\n",
    "    \"EngineHoursOut\" ,\n",
    "    \"LastChangeDate\" ,\n",
    "    \"AppointmentRequestUid\" ,]]\n",
    "#renaming columns. check the 2022-12-24-new-site-DB-config.xlsx\n",
    "df_repairorder_final= df_repairorder_cut.rename(\n",
    "    columns={\"RepairOrderId\":\"repair_order_id\" ,\n",
    "    \"RepairOrderPhaseId\":\"repair_order_phase_id\" ,\n",
    "    \"CustId\": \"repair_order_cust_id\" ,\n",
    "    \"VehicleId\": \"repair_order_vehicle_id\",\n",
    "    \"Location\" :\"repair_order_serviced_vehicle_location\" ,\n",
    "    \"StatusDescription\":\"repair_order_service_status\" ,\n",
    "    \"ScheduleDate\":\"repair_order_scheduled_start_datetime\" ,\n",
    "    \"ScheduledHours\":\"repair_order_billed_hours\" ,\n",
    "    \"PromiseDate\":\"repair_order_promise_datetime\" ,\n",
    "    \"RoPrinted\":\"repair_order_is_printed\" ,\n",
    "    \"InvoicePrinted\":\"repair_order_invoice_is_printed\" ,\n",
    "    \"TimeIn\":\"repair_order_serviced_vehicle_in_datetime\"  ,\n",
    "    \"TimeOut\":\"repair_order_serviced_vehicle_out_datetime\" ,\n",
    "    \"Hat\":\"repair_order_serviced_vehicle_hat\"  ,\n",
    "    \"DatePosted\": \"repair_order_posted_datetime\" ,\n",
    "    \"OdometerIn\" :\"repair_order_serviced_vehicle_odometer_in\",\n",
    "    \"OdometerOut\": \"repair_order_odometer_out\" ,\n",
    "    \"ReferenceNumber\": \"repair_order_reference_number\" ,\n",
    "    \"PrintedDate\" : \"repair_order_receipt_printed_datetime\" ,\n",
    "    \"TaxExempt\": \"repair_order_snapshot_is_tax_exempt\" ,\n",
    "    \"Notes\": \"repair_order_aggr_notes\" ,\n",
    "    \"Observations\": \"repair_order_observation_text_area\" ,\n",
    "    \"CreatedAsEstimate\": \"repair_order_created_as_estimate\"  ,\n",
    "    \"MarginPct\": \"repair_order_snapshot_margin_pct\" ,\n",
    "    \"HazWasteAmt\": \"repair_order_snapshot_haz_waste_amount\",\n",
    "    \"LaborSale\":\"repair_order_snapshot_labor_sale_amount\" ,\n",
    "    \"PartsSale\":\"repair_order_snapshot_parts_sale_amount\" ,\n",
    "    \"ShopSuppliesAmt\":\"repair_order_snapshot_supply_from_shop_amount\" ,\n",
    "    \"TaxAmtHazMat\":\"repair_order_snapshot_tax_haz_material_amount\" ,\n",
    "    \"TaxAmtShopSupplies\":\"repair_order_snapshot_tax_supply_from_shop_amount\" ,\n",
    "    \"TotalTaxAmt\":\"repair_order_snapshot_total_tax_amount\" ,\n",
    "    \"BalanceDueAdjustment\": \"repair_order_snapshot_balance_due_adjusted\" ,\n",
    "    \"DiscountAmt\": \"repair_order_snapshot_discounted_amount\",\n",
    "    \"PartDiscountDescriptionId\": \"repair_order_snapshot_part_discounted_desc_id\",\n",
    "    \"LaborRateDescriptionId\":\"repair_order_snapshot_labor_discounted_desc_id\" ,\n",
    "    \"OrderTotal\":\"repair_order_snapshot_order_total_amount\" ,\n",
    "    \"CalculateHazWasteCost\":\"repair_order_snapshot_calc_haz_waste_cost\"  ,\n",
    "    \"CalculateShopSuppliesCost\":\"repair_order_snapshot_calc_shop_supply_cost\" ,\n",
    "    \"EngineHoursIn\":\"repair_order_serviced_vehcle_engine_hours_in\",\n",
    "    \"EngineHoursOut\":\"repair_order_serviced_vehcle_engine_hours_out\" ,\n",
    "    \"LastChangeDate\":\"repair_order_last_updated_datetime\",\n",
    "    \"AppointmentRequestUid\":\"repair_order_appointment_request_uid\" })"
   ]
  },
  {
   "cell_type": "code",
   "execution_count": 3,
   "id": "103d0104",
   "metadata": {},
   "outputs": [
    {
     "name": "stdout",
     "output_type": "stream",
     "text": [
      "<class 'pandas.core.frame.DataFrame'>\n",
      "RangeIndex: 97281 entries, 0 to 97280\n",
      "Data columns (total 42 columns):\n",
      " #   Column                                             Non-Null Count  Dtype  \n",
      "---  ------                                             --------------  -----  \n",
      " 0   repair_order_id                                    97281 non-null  Int64  \n",
      " 1   repair_order_phase_id                              97281 non-null  Int64  \n",
      " 2   repair_order_cust_id                               95430 non-null  Int64  \n",
      " 3   repair_order_vehicle_id                            93772 non-null  Int64  \n",
      " 4   repair_order_serviced_vehicle_location             97278 non-null  string \n",
      " 5   repair_order_service_status                        97281 non-null  string \n",
      " 6   repair_order_scheduled_start_datetime              97147 non-null  string \n",
      " 7   repair_order_billed_hours                          97281 non-null  Float64\n",
      " 8   repair_order_promise_datetime                      97170 non-null  string \n",
      " 9   repair_order_is_printed                            97281 non-null  Int64  \n",
      " 10  repair_order_invoice_is_printed                    97281 non-null  Int64  \n",
      " 11  repair_order_serviced_vehicle_in_datetime          96534 non-null  string \n",
      " 12  repair_order_serviced_vehicle_out_datetime         97254 non-null  string \n",
      " 13  repair_order_serviced_vehicle_hat                  97281 non-null  string \n",
      " 14  repair_order_posted_datetime                       94561 non-null  string \n",
      " 15  repair_order_serviced_vehicle_odometer_in          97281 non-null  Int64  \n",
      " 16  repair_order_odometer_out                          97281 non-null  Int64  \n",
      " 17  repair_order_reference_number                      97281 non-null  string \n",
      " 18  repair_order_receipt_printed_datetime              97271 non-null  string \n",
      " 19  repair_order_snapshot_is_tax_exempt                97281 non-null  Int64  \n",
      " 20  repair_order_aggr_notes                            97281 non-null  string \n",
      " 21  repair_order_observation_text_area                 97281 non-null  string \n",
      " 22  repair_order_created_as_estimate                   97281 non-null  Int64  \n",
      " 23  repair_order_snapshot_margin_pct                   59277 non-null  Float64\n",
      " 24  repair_order_snapshot_haz_waste_amount             97281 non-null  Float64\n",
      " 25  repair_order_snapshot_labor_sale_amount            97281 non-null  Float64\n",
      " 26  repair_order_snapshot_parts_sale_amount            97281 non-null  Float64\n",
      " 27  repair_order_snapshot_supply_from_shop_amount      97281 non-null  Int64  \n",
      " 28  repair_order_snapshot_tax_haz_material_amount      97281 non-null  Int64  \n",
      " 29  repair_order_snapshot_tax_supply_from_shop_amount  97281 non-null  Int64  \n",
      " 30  repair_order_snapshot_total_tax_amount             97281 non-null  Float64\n",
      " 31  repair_order_snapshot_balance_due_adjusted         97281 non-null  Float64\n",
      " 32  repair_order_snapshot_discounted_amount            97281 non-null  Float64\n",
      " 33  repair_order_snapshot_part_discounted_desc_id      97281 non-null  Int64  \n",
      " 34  repair_order_snapshot_labor_discounted_desc_id     97281 non-null  Int64  \n",
      " 35  repair_order_snapshot_order_total_amount           97281 non-null  Float64\n",
      " 36  repair_order_snapshot_calc_haz_waste_cost          97281 non-null  Int64  \n",
      " 37  repair_order_snapshot_calc_shop_supply_cost        97281 non-null  Int64  \n",
      " 38  repair_order_serviced_vehcle_engine_hours_in       97281 non-null  Int64  \n",
      " 39  repair_order_serviced_vehcle_engine_hours_out      97281 non-null  Int64  \n",
      " 40  repair_order_last_updated_datetime                 97281 non-null  string \n",
      " 41  repair_order_appointment_request_uid               1 non-null      Int64  \n",
      "dtypes: Float64(9), Int64(20), string(13)\n",
      "memory usage: 33.9 MB\n"
     ]
    }
   ],
   "source": [
    "df_repairorder_final.info()"
   ]
  },
  {
   "cell_type": "code",
   "execution_count": null,
   "id": "4fb3e32c",
   "metadata": {},
   "outputs": [],
   "source": [
    "db_engine_repairorder=create_engine(f'mssql+pyodbc:///?odbc_connect={sql_alchemy_string}')"
   ]
  },
  {
   "cell_type": "code",
   "execution_count": null,
   "id": "04793436",
   "metadata": {},
   "outputs": [],
   "source": [
    "# writing data (repair_order_final, the formatted verison) into the new tbl repairorders_new_01\n",
    "with db_engine_repairorder.connect() as conn:\n",
    "    conn.execute('use prolube76DBSTG01;')\n",
    "    df_repairorder_final.to_sql('repairorders_new_01',conn, index=False,if_exists='append')"
   ]
  },
  {
   "cell_type": "code",
   "execution_count": 12,
   "id": "d46286da",
   "metadata": {},
   "outputs": [],
   "source": [
    "# dataframe(df)\n",
    "json_file_path = '/Users/stephenwang/Documents/76prolubeplus.com/mitchell1_db_jsons/estimate_Mitchell1_20221222.json'\n",
    "df_estimate=pd.read_json(json_file_path)\n",
    "df_estimate=df_estimate.convert_dtypes()\n"
   ]
  },
  {
   "cell_type": "code",
   "execution_count": 13,
   "id": "d6a27da0",
   "metadata": {},
   "outputs": [
    {
     "name": "stdout",
     "output_type": "stream",
     "text": [
      "<class 'pandas.core.frame.DataFrame'>\n",
      "RangeIndex: 95644 entries, 0 to 95643\n",
      "Data columns (total 13 columns):\n",
      " #   Column                Non-Null Count  Dtype  \n",
      "---  ------                --------------  -----  \n",
      " 0   EstimateId            95644 non-null  Int64  \n",
      " 1   RepairOrderId         95644 non-null  Int64  \n",
      " 2   EstimatedLaborCost    95644 non-null  Float64\n",
      " 3   EstimatedPartsCost    95644 non-null  Float64\n",
      " 4   EstimatedHours        95483 non-null  Float64\n",
      " 5   EstimatedTaxAmount    95644 non-null  Float64\n",
      " 6   EstimatedHazMatCost   95644 non-null  Float64\n",
      " 7   EstShopSuppliesCost   95644 non-null  Int64  \n",
      " 8   EstimatedDiscount     95644 non-null  Float64\n",
      " 9   timestamp             95644 non-null  string \n",
      " 10  EstimatedTireFeeCost  62070 non-null  Int64  \n",
      " 11  RecordVersion         95644 non-null  Int64  \n",
      " 12  LastChangeDate        95644 non-null  string \n",
      "dtypes: Float64(6), Int64(5), string(2)\n",
      "memory usage: 10.5 MB\n"
     ]
    }
   ],
   "source": [
    "\n",
    "df_estimate.info()"
   ]
  },
  {
   "cell_type": "code",
   "execution_count": 14,
   "id": "8a38464c",
   "metadata": {},
   "outputs": [],
   "source": [
    "#df_estimate_cut.info()\n",
    "df_estimate_cut=df_estimate.loc[:, ['EstimateId', 'RepairOrderId', \n",
    "       'EstimatedLaborCost','EstimatedPartsCost', 'EstimatedHours', 'EstimatedTaxAmount',\n",
    "       'EstimatedHazMatCost', 'EstShopSuppliesCost', 'EstimatedDiscount',\n",
    "       'LastChangeDate']]\n",
    "df_estimate_final=df_estimate_cut.rename(\n",
    "    columns={'EstimateId':'estimate_id', \n",
    "             'RepairOrderId':'estimate_repair_order_id', \n",
    "             'EstimatedLaborCost':'estimate_snapshot_labor_cost',\n",
    "             'EstimatedPartsCost':'estimate_snapshot_parts_cost', \n",
    "             'EstimatedHours':'estimate_billed_hours', 'EstimatedTaxAmount':'estimate_snapshot_tax_amount',\n",
    "             'EstimatedHazMatCost':'estimate_snapshot_haz_mat_amount',\n",
    "             'EstShopSuppliesCost':'estimate_snapshot_shop_supply_cost', \n",
    "             'EstimatedDiscount':'estimate_snapshot_discount_amount',\n",
    "             'LastChangeDate':'estimate_last_updated_date'\n",
    "        \n",
    "    }\n",
    ")\n"
   ]
  },
  {
   "cell_type": "code",
   "execution_count": 16,
   "id": "40f859bd",
   "metadata": {},
   "outputs": [
    {
     "name": "stdout",
     "output_type": "stream",
     "text": [
      "<class 'pandas.core.frame.DataFrame'>\n",
      "RangeIndex: 95644 entries, 0 to 95643\n",
      "Data columns (total 10 columns):\n",
      " #   Column                              Non-Null Count  Dtype  \n",
      "---  ------                              --------------  -----  \n",
      " 0   estimate_id                         95644 non-null  Int64  \n",
      " 1   estimate_repair_order_id            95644 non-null  Int64  \n",
      " 2   estimate_snapshot_labor_cost        95644 non-null  Float64\n",
      " 3   estimate_snapshot_parts_cost        95644 non-null  Float64\n",
      " 4   estimate_billed_hours               95483 non-null  Float64\n",
      " 5   estimate_snapshot_tax_amount        95644 non-null  Float64\n",
      " 6   estimate_snapshot_haz_mat_amount    95644 non-null  Float64\n",
      " 7   estimate_snapshot_shop_supply_cost  95644 non-null  Int64  \n",
      " 8   estimate_snapshot_discount_amount   95644 non-null  Float64\n",
      " 9   estimate_last_updated_date          95644 non-null  string \n",
      "dtypes: Float64(6), Int64(3), string(1)\n",
      "memory usage: 8.1 MB\n"
     ]
    }
   ],
   "source": [
    "df_estimate_final.info()"
   ]
  },
  {
   "cell_type": "code",
   "execution_count": 17,
   "id": "38afaae8",
   "metadata": {},
   "outputs": [],
   "source": [
    "db_engine_estimate=create_engine(f'mssql+pyodbc:///?odbc_connect={sql_alchemy_string}')"
   ]
  },
  {
   "cell_type": "code",
   "execution_count": null,
   "id": "3019df52",
   "metadata": {},
   "outputs": [],
   "source": [
    "# writing data (repair_order_final, the formatted verison) into the new tbl repairorders_new_01\n",
    "with db_engine_estimate.connect() as conn:\n",
    "    conn.execute('use prolube76DBSTG01;')\n",
    "    df_estimate_final.to_sql('estimates_new_01',conn, index=False,if_exists='append')"
   ]
  },
  {
   "cell_type": "code",
   "execution_count": null,
   "id": "29c4f972",
   "metadata": {},
   "outputs": [],
   "source": []
  }
 ],
 "metadata": {
  "kernelspec": {
   "display_name": "Python 3 (ipykernel)",
   "language": "python",
   "name": "python3"
  },
  "language_info": {
   "codemirror_mode": {
    "name": "ipython",
    "version": 3
   },
   "file_extension": ".py",
   "mimetype": "text/x-python",
   "name": "python",
   "nbconvert_exporter": "python",
   "pygments_lexer": "ipython3",
   "version": "3.9.13 | packaged by conda-forge | (main, May 27 2022, 17:00:33) \n[Clang 13.0.1 ]"
  },
  "vscode": {
   "interpreter": {
    "hash": "b5be08ede8785fb8c4ae1ca60ee7eb32129b29345e235c2d4812556128dd7112"
   }
  }
 },
 "nbformat": 4,
 "nbformat_minor": 5
}
